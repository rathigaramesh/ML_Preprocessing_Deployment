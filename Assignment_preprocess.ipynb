{
 "cells": [
  {
   "cell_type": "code",
   "execution_count": 23,
   "id": "b8a63cd1-3c65-41e9-90f7-b4de202287f2",
   "metadata": {},
   "outputs": [],
   "source": [
    "import pickle\n",
    "import pandas as pd\n",
    "from sklearn.preprocessing import StandardScaler"
   ]
  },
  {
   "cell_type": "code",
   "execution_count": 24,
   "id": "60c2ad15-c7ac-4993-a60f-22a4d1e298d1",
   "metadata": {},
   "outputs": [],
   "source": [
    "loaded_model = pickle.load(open(\"Preinput_SVM_Final.sav\", 'rb'))\n",
    "scaler = pickle.load(open(\"sc.sav\", 'rb')) # need to read already in development phase, then use\n",
    "#sc -> Scaler used in my code so i use that in save name"
   ]
  },
  {
   "cell_type": "code",
   "execution_count": 25,
   "id": "9dbb373a-2c64-4844-80bb-bc200ae98626",
   "metadata": {},
   "outputs": [],
   "source": [
    "input_pre =[[23449, 4435, 543, 423, 819]]"
   ]
  },
  {
   "cell_type": "code",
   "execution_count": 26,
   "id": "36dd2c47-fef4-4811-9361-f349bbcb465f",
   "metadata": {},
   "outputs": [
    {
     "name": "stderr",
     "output_type": "stream",
     "text": [
      "C:\\Users\\User\\anaconda3\\Lib\\site-packages\\sklearn\\base.py:493: UserWarning: X does not have valid feature names, but StandardScaler was fitted with feature names\n",
      "  warnings.warn(\n"
     ]
    }
   ],
   "source": [
    "# Scale the input\n",
    "preinput = scaler.transform(input_Pre)\n",
    "result = loaded_model.predict(preinput)"
   ]
  },
  {
   "cell_type": "code",
   "execution_count": null,
   "id": "e161f978-8b4c-4ca8-8bd7-1dc12fbeb6b5",
   "metadata": {},
   "outputs": [],
   "source": []
  }
 ],
 "metadata": {
  "kernelspec": {
   "display_name": "Python [conda env:base] *",
   "language": "python",
   "name": "conda-base-py"
  },
  "language_info": {
   "codemirror_mode": {
    "name": "ipython",
    "version": 3
   },
   "file_extension": ".py",
   "mimetype": "text/x-python",
   "name": "python",
   "nbconvert_exporter": "python",
   "pygments_lexer": "ipython3",
   "version": "3.12.7"
  }
 },
 "nbformat": 4,
 "nbformat_minor": 5
}
